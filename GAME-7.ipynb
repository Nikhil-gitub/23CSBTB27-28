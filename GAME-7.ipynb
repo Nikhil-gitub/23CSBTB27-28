{
  "nbformat": 4,
  "nbformat_minor": 0,
  "metadata": {
    "colab": {
      "provenance": [],
      "authorship_tag": "ABX9TyNwEV16WDUVkbsUI4uZZ8Q9",
      "include_colab_link": true
    },
    "kernelspec": {
      "name": "python3",
      "display_name": "Python 3"
    },
    "language_info": {
      "name": "python"
    }
  },
  "cells": [
    {
      "cell_type": "markdown",
      "metadata": {
        "id": "view-in-github",
        "colab_type": "text"
      },
      "source": [
        "<a href=\"https://colab.research.google.com/github/Nikhil-gitub/23CSBTB27-28/blob/main/GAME-7.ipynb\" target=\"_parent\"><img src=\"https://colab.research.google.com/assets/colab-badge.svg\" alt=\"Open In Colab\"/></a>"
      ]
    },
    {
      "cell_type": "code",
      "execution_count": 1,
      "metadata": {
        "id": "osSiNlENH09C"
      },
      "outputs": [],
      "source": [
        "import random\n",
        "\n",
        "def random_player(game, state):\n",
        "    \"\"\"A player who selects a random move from the available actions.\"\"\"\n",
        "    return random.choice(list(game.actions(state)))\n",
        "\n",
        "def player(search_algorithm):\n",
        "    \"\"\"A game player who uses the specified search algorithm.\n",
        "\n",
        "    Args:\n",
        "        search_algorithm: A function that takes (game, state) and returns a tuple (value, action).\n",
        "\n",
        "    Returns:\n",
        "        A lambda function that uses the search_algorithm to determine the best move.\n",
        "    \"\"\"\n",
        "    return lambda game, state: search_algorithm(game, state)[1]\n"
      ]
    }
  ]
}